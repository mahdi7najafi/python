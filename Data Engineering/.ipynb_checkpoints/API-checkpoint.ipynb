{
 "cells": [
  {
   "cell_type": "markdown",
   "metadata": {},
   "source": [
    "<h3 id=\"\">Overview of HTTP </h3>\n",
    "When you, the client, use a web page your browser sends an HTTP request to the server where the page is hosted. The server tries to find the desired resource by default \"index.html\". If your request is successful, the server will send the object to the client in an HTTP response. This includes information like the type of the resource, the length of the resource, and other information."
   ]
  },
  {
   "cell_type": "markdown",
   "metadata": {},
   "source": [
    "<h2 id=\"URL\">Uniform Resource Locator: URL</h2>\n",
    "Uniform resource locator (URL) is the most popular way to find resources on the web.  We can break the URL into three parts.\n",
    "\n",
    "<ul>\n",
    "    <li><b>scheme</b> this is this protocol, for this lab it will always be <code>http://</code>  </li>\n",
    "    <li><b> Internet address or  Base URL </b> this will be used to find the location here are some examples: <code>www.ibm.com</code> and  <code> www.gitlab.com </code> </li>\n",
    "    <li><b>route</b> location on the web server for example: <code>/images/IDSNlogo.png</code> </li>\n",
    "</ul>"
   ]
  },
  {
   "cell_type": "markdown",
   "metadata": {},
   "source": [
    "<h2 id=\"RE\">Request </h2>\n",
    "\n",
    "The process can be broken into the <b>request</b> and <b>response </b> process.  The request using the get method is partially illustrated below. In the start line we have the <code>GET</code> method, this is an <code>HTTP</code> method. Also the location of the resource  <code>/index.html</code> and the <code>HTTP</code> version. The Request header passes additional information with an <code>HTTP</code> request:\n"
   ]
  },
  {
   "cell_type": "markdown",
   "metadata": {},
   "source": [
    "<div class=\"alert alert-block alert-info\" style=\"margin-top: 20px\">\n",
    "         <img src=\"https://cf-courses-data.s3.us.cloud-object-storage.appdomain.cloud/IBMDeveloperSkillsNetwork-PY0101EN-SkillsNetwork/labs/Module%205/images/reqest_messege.png\" width=\"400\" align=\"left\">\n",
    "</div>"
   ]
  },
  {
   "cell_type": "markdown",
   "metadata": {},
   "source": [
    "When an <code>HTTP</code> request is made, an <code>HTTP</code> method is sent, this tells the server what action to perform.  A list of several <code>HTTP</code> methods is shown below. We will go over more examples later."
   ]
  },
  {
   "cell_type": "markdown",
   "metadata": {},
   "source": [
    "<div class=\"alert alert-block alert-info\" style=\"margin-top: 20px\">\n",
    "         <img src=\"https://cf-courses-data.s3.us.cloud-object-storage.appdomain.cloud/IBMDeveloperSkillsNetwork-PY0101EN-SkillsNetwork/labs/Module%205/images/http_methods.png\" width=\"400\" align=\"left\">\n",
    "</div>"
   ]
  },
  {
   "cell_type": "markdown",
   "metadata": {},
   "source": [
    "<h3 id=\"RES\">Response</h3>\n",
    "\n",
    "The figure below represents the response; the response start line contains the version number <code>HTTP/1.0</code>, a status code (200) meaning success, followed by a descriptive phrase (OK). The response header contains useful information. Finally, we have the response body containing the requested file, an <code> HTML </code> document.  It should be noted that some requests have headers.\n",
    "\n"
   ]
  },
  {
   "cell_type": "markdown",
   "metadata": {},
   "source": [
    "<div class=\"alert alert-block alert-info\" style=\"margin-top: 20px\">\n",
    "         <img src=\"https://cf-courses-data.s3.us.cloud-object-storage.appdomain.cloud/IBMDeveloperSkillsNetwork-PY0101EN-SkillsNetwork/labs/Module%205/images/response_message.png\" width=\"400\" align=\"left\">\n",
    "</div>"
   ]
  },
  {
   "cell_type": "markdown",
   "metadata": {},
   "source": [
    "Some status code examples are shown in the table below, the prefix indicates the class. These are shown in yellow, with actual status codes shown in  white. Check out the following <a href=\"https://developer.mozilla.org/en-US/docs/Web/HTTP/Status?utm_medium=Exinfluencer&utm_source=Exinfluencer&utm_content=000026UJ&utm_term=10006555&utm_id=NA-SkillsNetwork-Channel-SkillsNetworkCoursesIBMDeveloperSkillsNetworkPY0101ENSkillsNetwork19487395-2021-01-01\">link </a> for more descriptions."
   ]
  },
  {
   "cell_type": "markdown",
   "metadata": {},
   "source": [
    "<div class=\"alert alert-block alert-info\" style=\"margin-top: 20px\">\n",
    "         <img src=\"https://cf-courses-data.s3.us.cloud-object-storage.appdomain.cloud/IBMDeveloperSkillsNetwork-PY0101EN-SkillsNetwork/labs/Module%205/images/status_code.png\" width=\"300\" align=\"left\">\n",
    "</div>"
   ]
  },
  {
   "cell_type": "markdown",
   "metadata": {},
   "source": [
    "<h3 id=\"RP\">Requests in Python</h3>\n",
    "\n",
    "Requests is a Python Library that allows you to send <code>HTTP/1.1</code> requests easily. We can import the library as follows:\n"
   ]
  },
  {
   "cell_type": "code",
   "execution_count": 6,
   "metadata": {},
   "outputs": [],
   "source": [
    "import requests\n",
    "\n",
    "import os \n",
    "from PIL import Image\n",
    "from IPython.display import IFrame"
   ]
  },
  {
   "cell_type": "markdown",
   "metadata": {},
   "source": [
    "You can make a <code>GET</code> request via the method <code>get</code> to [www.ibm.com](http://www.ibm.com/?utm_medium=Exinfluencer&utm_source=Exinfluencer&utm_content=000026UJ&utm_term=10006555&utm_id=NA-SkillsNetwork-Channel-SkillsNetworkCoursesIBMDeveloperSkillsNetworkPY0101ENSkillsNetwork19487395-2021-01-01):"
   ]
  },
  {
   "cell_type": "code",
   "execution_count": 7,
   "metadata": {},
   "outputs": [],
   "source": [
    "url='https://www.ibm.com/'\n",
    "r=requests.get(url)"
   ]
  },
  {
   "cell_type": "markdown",
   "metadata": {},
   "source": [
    "We have the response object <code>r</code>, this has information about the request, like the status of the request. We can view the status code using the attribute <code>status_code</code>."
   ]
  },
  {
   "cell_type": "code",
   "execution_count": 8,
   "metadata": {},
   "outputs": [
    {
     "data": {
      "text/plain": [
       "200"
      ]
     },
     "execution_count": 8,
     "metadata": {},
     "output_type": "execute_result"
    }
   ],
   "source": [
    "r.status_code"
   ]
  },
  {
   "cell_type": "code",
   "execution_count": 9,
   "metadata": {},
   "outputs": [
    {
     "name": "stdout",
     "output_type": "stream",
     "text": [
      "{'User-Agent': 'python-requests/2.22.0', 'Accept-Encoding': 'gzip, deflate', 'Accept': '*/*', 'Connection': 'keep-alive', 'Cookie': '_abck=0390272F4B8CD0A42AB8C6DE6DCA0DB7~-1~YAAQNvs7FzlxbLh9AQAAykblDgdDrTgoDgM9ctWwV9owsesxOtCn58+DFLMAoJPaH5qc0z3ECEphcp4dW/vMn7Tbz2ix+BJYj9cSgC3UeDHdj+rmC2aIh0OPPoTW+EHlGXFNh1r9ZbH05WsOu8R+XdCKLo92fX6pfhR3y6h8k7ZGU7wGUjhSGN4FbiRjt7+0gBEtVHbVvH9u76P3avcc2MtcNnwDzv/s9lM/lnB4/Slu+pBo27cowiOlygXDeEGISDFULLV1EBdyNVg8S8oZe6ttfH7hSb2jkZHifJwB+QFE2kWY5RaVR770q/nqDxZmFOIA4O7xjSEzOIWfcpOBVVGmVPMQx6l5HfRcWUE7GiDvkOaKvKI=~-1~-1~-1; bm_sz=AF3DE8997166621CFD079368C5B6BBDB~YAAQNvs7FzpxbLh9AQAAykblDg4tsookIrPosvCECY2QOSbwRWllFabo/rI6QPt7CcKJe98x3g6kRvfdUXEYIizGbbEv5hY7YyXMOpfWJ3+ZtfCcXrpGBavYnBeuAh/c5M4LYrCY3Jmg6Y+f2oF6OAZ1BPvr9RrYr+9oFbd3+cpaLuKfk4MnkOVS/4CVQXjU411vqWC6VDAT1+r57mYQ3bVQyXE5HAu1ghZXP3IneY4MyVg33Ka5Mz+OD/YBNBSt2I1w1BNhzuLzzXFPEKNrFaJF1ndDLaBACaknvlhvxG8=~4604481~3749687'}\n"
     ]
    }
   ],
   "source": [
    "#View the request headers\n",
    "print(r.request.headers)"
   ]
  },
  {
   "cell_type": "markdown",
   "metadata": {},
   "source": [
    "You can view the request body, in the following line, as there is no body for a get request we get a <code>None</code>:\n"
   ]
  },
  {
   "cell_type": "code",
   "execution_count": 12,
   "metadata": {},
   "outputs": [
    {
     "name": "stdout",
     "output_type": "stream",
     "text": [
      "request body: None\n"
     ]
    }
   ],
   "source": [
    "print(\"request body:\", r.request.body)"
   ]
  },
  {
   "cell_type": "markdown",
   "metadata": {},
   "source": [
    "You can view the <code>HTTP</code> response header using the attribute <code>headers</code>. This returns a python dictionary of <code>HTTP</code> response headers."
   ]
  },
  {
   "cell_type": "code",
   "execution_count": 13,
   "metadata": {},
   "outputs": [
    {
     "name": "stdout",
     "output_type": "stream",
     "text": [
      "{'Cache-Control': 'max-age=301', 'Expires': 'Thu, 30 Dec 2021 14:26:30 GMT', 'Last-Modified': 'Thu, 30 Dec 2021 13:56:44 GMT', 'ETag': '\"166d2-5d45d6cb97e5e\"', 'Accept-Ranges': 'bytes', 'Content-Encoding': 'gzip', 'Content-Type': 'text/html', 'X-Akamai-Transformed': '9 18835 0 pmb=mTOE,1', 'Date': 'Fri, 31 Dec 2021 05:10:14 GMT', 'Content-Length': '18905', 'Connection': 'keep-alive', 'Vary': 'Accept-Encoding', 'x-content-type-options': 'nosniff', 'X-XSS-Protection': '1; mode=block', 'Content-Security-Policy': 'upgrade-insecure-requests', 'Strict-Transport-Security': 'max-age=31536000'}\n"
     ]
    }
   ],
   "source": [
    "header=r.headers\n",
    "print(r.headers)"
   ]
  },
  {
   "cell_type": "markdown",
   "metadata": {},
   "source": [
    "We can obtain the date the request was sent using the key <code>Date</code>"
   ]
  },
  {
   "cell_type": "code",
   "execution_count": 14,
   "metadata": {},
   "outputs": [
    {
     "data": {
      "text/plain": [
       "'Fri, 31 Dec 2021 05:10:14 GMT'"
      ]
     },
     "execution_count": 14,
     "metadata": {},
     "output_type": "execute_result"
    }
   ],
   "source": [
    "header['date']"
   ]
  },
  {
   "cell_type": "markdown",
   "metadata": {},
   "source": [
    "<code>Content-Type</code> indicates the type of data:"
   ]
  },
  {
   "cell_type": "code",
   "execution_count": 15,
   "metadata": {},
   "outputs": [
    {
     "data": {
      "text/plain": [
       "'text/html'"
      ]
     },
     "execution_count": 15,
     "metadata": {},
     "output_type": "execute_result"
    }
   ],
   "source": [
    "header['Content-Type']"
   ]
  },
  {
   "cell_type": "markdown",
   "metadata": {},
   "source": [
    "You can also check the <code>encoding</code>:"
   ]
  },
  {
   "cell_type": "code",
   "execution_count": 17,
   "metadata": {},
   "outputs": [
    {
     "data": {
      "text/plain": [
       "'ISO-8859-1'"
      ]
     },
     "execution_count": 17,
     "metadata": {},
     "output_type": "execute_result"
    }
   ],
   "source": [
    "r.encoding"
   ]
  },
  {
   "cell_type": "markdown",
   "metadata": {},
   "source": [
    "As the <code>Content-Type</code> is <code>text/html</code> we can use the attribute <code>text</code> to display the <code>HTML</code> in the body. We can review the first 100 characters:"
   ]
  },
  {
   "cell_type": "code",
   "execution_count": 18,
   "metadata": {},
   "outputs": [
    {
     "data": {
      "text/plain": [
       "'<!DOCTYPE html><html lang=\"en-US\"><head><meta name=\"viewport\" content=\"width=device-width\"/><meta ch'"
      ]
     },
     "execution_count": 18,
     "metadata": {},
     "output_type": "execute_result"
    }
   ],
   "source": [
    "r.text[0:100]"
   ]
  },
  {
   "cell_type": "markdown",
   "metadata": {},
   "source": [
    "You can load other types of data for non-text requests, like images. Consider the URL of the following image:"
   ]
  },
  {
   "cell_type": "code",
   "execution_count": 20,
   "metadata": {},
   "outputs": [],
   "source": [
    "# Use single quotation marks for defining string\n",
    "url='https://gitlab.com/ibm/skills-network/courses/placeholder101/-/raw/master/labs/module%201/images/IDSNlogo.png'"
   ]
  },
  {
   "cell_type": "markdown",
   "metadata": {},
   "source": [
    "We can make a get request:"
   ]
  },
  {
   "cell_type": "code",
   "execution_count": 21,
   "metadata": {},
   "outputs": [
    {
     "name": "stdout",
     "output_type": "stream",
     "text": [
      "{'Date': 'Fri, 31 Dec 2021 05:15:23 GMT', 'Content-Type': 'image/png', 'Content-Length': '21590', 'Connection': 'keep-alive', 'Cache-Control': 'max-age=60, public', 'Content-Disposition': 'inline', 'Etag': 'W/\"56d66205ba3c6cb8fd1418e601bb3ea8\"', 'Permissions-Policy': 'interest-cohort=()', 'Referrer-Policy': 'strict-origin-when-cross-origin', 'X-Content-Type-Options': 'nosniff', 'X-Download-Options': 'noopen', 'X-Frame-Options': 'DENY', 'X-Permitted-Cross-Domain-Policies': 'none', 'X-Request-Id': '01FR79JSK9FSEZRYKHH6X52SNJ', 'X-Runtime': '0.076157', 'X-Ua-Compatible': 'IE=edge', 'X-Xss-Protection': '1; mode=block', 'GitLab-LB': 'fe-06-lb-gprd', 'GitLab-SV': 'web-gke-us-east1-b', 'CF-Cache-Status': 'REVALIDATED', 'Accept-Ranges': 'bytes', 'Expect-CT': 'max-age=604800, report-uri=\"https://report-uri.cloudflare.com/cdn-cgi/beacon/expect-ct\"', 'Report-To': '{\"endpoints\":[{\"url\":\"https:\\\\/\\\\/a.nel.cloudflare.com\\\\/report\\\\/v3?s=N4zwXckYjGhLv%2B2rE94Ilzaltf4zvr%2FlrHJroyHnKulxrEVZ203OSYagQtmD4RKq0ZqcX8FU23WdYJIZ10oT12DPpaEuAH9jhEhOosTjRPA3LjliauNgKQNB2yo%3D\"}],\"group\":\"cf-nel\",\"max_age\":604800}', 'NEL': '{\"success_fraction\":0.01,\"report_to\":\"cf-nel\",\"max_age\":604800}', 'Vary': 'Accept-Encoding', 'Strict-Transport-Security': 'max-age=31536000', 'Server': 'cloudflare', 'CF-RAY': '6c61079cecb019ef-EWR'}\n"
     ]
    }
   ],
   "source": [
    "r=requests.get(url)\n",
    "\n",
    "print(r.headers)"
   ]
  },
  {
   "cell_type": "markdown",
   "metadata": {},
   "source": [
    " We can see the <code>'Content-Type'</code>   "
   ]
  },
  {
   "cell_type": "code",
   "execution_count": 22,
   "metadata": {},
   "outputs": [
    {
     "data": {
      "text/plain": [
       "'image/png'"
      ]
     },
     "execution_count": 22,
     "metadata": {},
     "output_type": "execute_result"
    }
   ],
   "source": [
    "r.headers['Content-Type']"
   ]
  },
  {
   "cell_type": "markdown",
   "metadata": {},
   "source": [
    "An image is a response object that contains the image as a <a href=\"https://docs.python.org/3/glossary.html?utm_medium=Exinfluencer&utm_source=Exinfluencer&utm_content=000026UJ&utm_term=10006555&utm_id=NA-SkillsNetwork-Channel-SkillsNetworkCoursesIBMDeveloperSkillsNetworkPY0101ENSkillsNetwork19487395-2021-01-01#term-bytes-like-object\">bytes-like object</a>. As a result, we must save it using a file object. First, we specify the file path and\n",
    "name\n"
   ]
  },
  {
   "cell_type": "code",
   "execution_count": 23,
   "metadata": {},
   "outputs": [
    {
     "data": {
      "text/plain": [
       "'C:\\\\Users\\\\dell\\\\Desktop\\\\data science\\\\kaggle\\\\Python\\\\image.png'"
      ]
     },
     "execution_count": 23,
     "metadata": {},
     "output_type": "execute_result"
    }
   ],
   "source": [
    "path=os.path.join(os.getcwd(),'image.png')\n",
    "path"
   ]
  },
  {
   "cell_type": "markdown",
   "metadata": {},
   "source": [
    "We save the file, in order to access the body of the response we use the attribute <code>content</code> then save it using the <code>open</code> function and write <code>method</code>:"
   ]
  },
  {
   "cell_type": "code",
   "execution_count": 25,
   "metadata": {},
   "outputs": [],
   "source": [
    "with open(path,'wb') as f:\n",
    "    f.write(r.content)"
   ]
  },
  {
   "cell_type": "markdown",
   "metadata": {},
   "source": [
    "We can view the image:"
   ]
  },
  {
   "cell_type": "code",
   "execution_count": 26,
   "metadata": {},
   "outputs": [
    {
     "data": {
      "image/png": "[encoded data removed]",
      "text/plain": [
       "<PIL.PngImagePlugin.PngImageFile image mode=P size=800x800 at 0x1CE797D6D88>"
      ]
     },
     "execution_count": 26,
     "metadata": {},
     "output_type": "execute_result"
    }
   ],
   "source": [
    "Image.open(path)"
   ]
  },
  {
   "cell_type": "markdown",
   "metadata": {},
   "source": [
    "### Code to retrieve data from web"
   ]
  },
  {
   "cell_type": "code",
   "execution_count": 28,
   "metadata": {},
   "outputs": [],
   "source": [
    "url='https://cf-courses-data.s3.us.cloud-object-storage.appdomain.cloud/IBMDeveloperSkillsNetwork-PY0101EN-SkillsNetwork/labs/Module%205/data/Example1.txt'\n",
    "path=os.path.join(os.getcwd(),'example1.txt')\n",
    "r=requests.get(url)\n",
    "with open(path,'wb') as f:\n",
    "    f.write(r.content)"
   ]
  },
  {
   "cell_type": "markdown",
   "metadata": {},
   "source": [
    "<h3 id=\"URL_P\">Get Request with URL Parameters </h3>"
   ]
  },
  {
   "cell_type": "markdown",
   "metadata": {},
   "source": [
    "You can use the <b>GET</b> method to modify the results of your query, for example retrieving data from an API. We send a <b>GET</b> request to the  server. Like before we have the <b>Base URL</b>, in the <b>Route</b> we append <code>/get</code>, this indicates we would like to preform a <code>GET</code> request. This is demonstrated in the following table:"
   ]
  },
  {
   "cell_type": "markdown",
   "metadata": {},
   "source": [
    "<div class=\"alert alert-block alert-info\" style=\"margin-top: 20px\">\n",
    "         <img src=\"https://cf-courses-data.s3.us.cloud-object-storage.appdomain.cloud/IBMDeveloperSkillsNetwork-PY0101EN-SkillsNetwork/labs/Module%205/images/base_URL_Route.png\" width=\"400\" align=\"left\">\n",
    "</div>\n"
   ]
  },
  {
   "cell_type": "markdown",
   "metadata": {},
   "source": [
    "The Base URL is for <code>[http://httpbin.org/](http://httpbin.org/?utm_medium=Exinfluencer&utm_source=Exinfluencer&utm_content=000026UJ&utm_term=10006555&utm_id=NA-SkillsNetwork-Channel-SkillsNetworkCoursesIBMDeveloperSkillsNetworkPY0101ENSkillsNetwork19487395-2021-01-01)</code> is a simple HTTP Request & Response Service. The <code>URL</code> in Python is given by:\n"
   ]
  },
  {
   "cell_type": "code",
   "execution_count": 30,
   "metadata": {},
   "outputs": [],
   "source": [
    "url_get='http://httpbin.org/get'"
   ]
  },
  {
   "cell_type": "markdown",
   "metadata": {},
   "source": [
    "A <a href=\"https://en.wikipedia.org/wiki/Query_string?utm_medium=Exinfluencer&utm_source=Exinfluencer&utm_content=000026UJ&utm_term=10006555&utm_id=NA-SkillsNetwork-Channel-SkillsNetworkCoursesIBMDeveloperSkillsNetworkPY0101ENSkillsNetwork19487395-2021-01-01\">query string</a> is a part of a uniform resource locator (URL), this sends other information to the web server. The start of the query is a <code>?</code>, followed by a series of parameter and value pairs, as shown in the table below. The first parameter name is <code>name</code> and the value is <code>Joseph</code>. The second parameter name is <code>ID</code> and the Value is <code>123</code>. Each pair, parameter, and value is separated by an equals sign, <code>=</code>.\n",
    "The series of pairs is separated by the ampersand <code>&</code>."
   ]
  },
  {
   "cell_type": "markdown",
   "metadata": {},
   "source": [
    "<div class=\"alert alert-block alert-info\" style=\"margin-top: 20px\">\n",
    "         <img src=\"https://cf-courses-data.s3.us.cloud-object-storage.appdomain.cloud/IBMDeveloperSkillsNetwork-PY0101EN-SkillsNetwork/labs/Module%205/images/query_string.png\" width=\"500\" align=\"left\">\n",
    "</div>"
   ]
  },
  {
   "cell_type": "markdown",
   "metadata": {},
   "source": [
    "To create a Query string, add a dictionary. The keys are the parameter names and the values are the value of the Query string."
   ]
  },
  {
   "cell_type": "code",
   "execution_count": 31,
   "metadata": {},
   "outputs": [],
   "source": [
    "payload={\"name\":\"Joseph\",\"ID\":\"123\"}"
   ]
  },
  {
   "cell_type": "markdown",
   "metadata": {},
   "source": [
    "Then passing the dictionary <code>payload</code> to the <code>params</code> parameter of the <code> get()</code> function:"
   ]
  },
  {
   "cell_type": "code",
   "execution_count": 32,
   "metadata": {},
   "outputs": [],
   "source": [
    "r=requests.get(url_get,params=payload)"
   ]
  },
  {
   "cell_type": "markdown",
   "metadata": {},
   "source": [
    "We can print out the <code>URL</code> and see the name and values"
   ]
  },
  {
   "cell_type": "code",
   "execution_count": 33,
   "metadata": {},
   "outputs": [
    {
     "data": {
      "text/plain": [
       "'http://httpbin.org/get?name=Joseph&ID=123'"
      ]
     },
     "execution_count": 33,
     "metadata": {},
     "output_type": "execute_result"
    }
   ],
   "source": [
    "r.url"
   ]
  },
  {
   "cell_type": "markdown",
   "metadata": {},
   "source": [
    "There is no request body"
   ]
  },
  {
   "cell_type": "code",
   "execution_count": 34,
   "metadata": {},
   "outputs": [
    {
     "name": "stdout",
     "output_type": "stream",
     "text": [
      "200\n"
     ]
    }
   ],
   "source": [
    "print(r.status_code)"
   ]
  },
  {
   "cell_type": "markdown",
   "metadata": {},
   "source": [
    "We can view the response as text"
   ]
  },
  {
   "cell_type": "code",
   "execution_count": 35,
   "metadata": {},
   "outputs": [
    {
     "name": "stdout",
     "output_type": "stream",
     "text": [
      "{\n",
      "  \"args\": {\n",
      "    \"ID\": \"123\", \n",
      "    \"name\": \"Joseph\"\n",
      "  }, \n",
      "  \"headers\": {\n",
      "    \"Accept\": \"*/*\", \n",
      "    \"Accept-Encoding\": \"gzip, deflate\", \n",
      "    \"Host\": \"httpbin.org\", \n",
      "    \"User-Agent\": \"python-requests/2.22.0\", \n",
      "    \"X-Amzn-Trace-Id\": \"Root=1-61ce946a-2af0901b180afa5e6a643be9\"\n",
      "  }, \n",
      "  \"origin\": \"73.29.254.149\", \n",
      "  \"url\": \"http://httpbin.org/get?name=Joseph&ID=123\"\n",
      "}\n",
      "\n"
     ]
    }
   ],
   "source": [
    "print(r.text)"
   ]
  },
  {
   "cell_type": "markdown",
   "metadata": {},
   "source": [
    "We can look at the <code>'Content-Type'</code>."
   ]
  },
  {
   "cell_type": "code",
   "execution_count": 36,
   "metadata": {},
   "outputs": [
    {
     "data": {
      "text/plain": [
       "'application/json'"
      ]
     },
     "execution_count": 36,
     "metadata": {},
     "output_type": "execute_result"
    }
   ],
   "source": [
    "r.headers['Content-Type']"
   ]
  },
  {
   "cell_type": "markdown",
   "metadata": {},
   "source": [
    "As the content <code>'Content-Type'</code> is in the <code>JSON</code> format we can use the method <code>json()</code>, it returns a Python <code>dict</code>:"
   ]
  },
  {
   "cell_type": "code",
   "execution_count": 37,
   "metadata": {},
   "outputs": [
    {
     "data": {
      "text/plain": [
       "{'args': {'ID': '123', 'name': 'Joseph'},\n",
       " 'headers': {'Accept': '*/*',\n",
       "  'Accept-Encoding': 'gzip, deflate',\n",
       "  'Host': 'httpbin.org',\n",
       "  'User-Agent': 'python-requests/2.22.0',\n",
       "  'X-Amzn-Trace-Id': 'Root=1-61ce946a-2af0901b180afa5e6a643be9'},\n",
       " 'origin': '73.29.254.149',\n",
       " 'url': 'http://httpbin.org/get?name=Joseph&ID=123'}"
      ]
     },
     "execution_count": 37,
     "metadata": {},
     "output_type": "execute_result"
    }
   ],
   "source": [
    "r.json()"
   ]
  },
  {
   "cell_type": "markdown",
   "metadata": {},
   "source": [
    "The key <code>args</code> has the name and values:"
   ]
  },
  {
   "cell_type": "code",
   "execution_count": 38,
   "metadata": {},
   "outputs": [
    {
     "data": {
      "text/plain": [
       "{'ID': '123', 'name': 'Joseph'}"
      ]
     },
     "execution_count": 38,
     "metadata": {},
     "output_type": "execute_result"
    }
   ],
   "source": [
    "r.json()['args']"
   ]
  },
  {
   "cell_type": "markdown",
   "metadata": {},
   "source": [
    "</br>"
   ]
  },
  {
   "cell_type": "markdown",
   "metadata": {},
   "source": [
    "<h3 id=\"POST\">Post Requests  </h3>\n",
    "\n",
    "Like a <code>GET</code> request, a <code>POST</code> is used to send data to a server, but the <code>POST</code> request sends the data in a request body. In order to send the Post Request in Python, in the <code>URL</code> we change the route to <code>POST</code>:"
   ]
  },
  {
   "cell_type": "code",
   "execution_count": 39,
   "metadata": {},
   "outputs": [],
   "source": [
    "url_post='http://httpbin.org/post'"
   ]
  },
  {
   "cell_type": "markdown",
   "metadata": {},
   "source": [
    "This endpoint will expect data as a file or as a form. A form is convenient way to configure an HTTP request to send data to a server.\n",
    "\n",
    "To make a <code>POST</code> request we use the <code>post()</code> function, the variable <code>payload</code> is passed to the parameter <code> data </code>:"
   ]
  },
  {
   "cell_type": "code",
   "execution_count": 40,
   "metadata": {},
   "outputs": [],
   "source": [
    "r_post=requests.post(url_post,data=payload)"
   ]
  },
  {
   "cell_type": "markdown",
   "metadata": {},
   "source": [
    "Comparing the URL from the response object of the <code>GET</code> and <code>POST</code> request we see the <code>POST</code> request has no name or value pairs."
   ]
  },
  {
   "cell_type": "code",
   "execution_count": 41,
   "metadata": {},
   "outputs": [
    {
     "name": "stdout",
     "output_type": "stream",
     "text": [
      "POST request URL: http://httpbin.org/post\n",
      "GET request URL: http://httpbin.org/get?name=Joseph&ID=123\n"
     ]
    }
   ],
   "source": [
    "print(\"POST request URL:\",r_post.url )\n",
    "print(\"GET request URL:\",r.url)"
   ]
  },
  {
   "cell_type": "markdown",
   "metadata": {},
   "source": [
    "We can compare the <code>POST</code> and <code>GET</code> request body, we see only the <code>POST</code> request has a body:"
   ]
  },
  {
   "cell_type": "code",
   "execution_count": 42,
   "metadata": {},
   "outputs": [
    {
     "name": "stdout",
     "output_type": "stream",
     "text": [
      "POST request body: name=Joseph&ID=123\n",
      "GET request body: None\n"
     ]
    }
   ],
   "source": [
    "print(\"POST request body:\",r_post.request.body)\n",
    "print(\"GET request body:\",r.request.body)"
   ]
  },
  {
   "cell_type": "markdown",
   "metadata": {},
   "source": [
    "We can view the form as well:"
   ]
  },
  {
   "cell_type": "code",
   "execution_count": 43,
   "metadata": {},
   "outputs": [
    {
     "data": {
      "text/plain": [
       "{'ID': '123', 'name': 'Joseph'}"
      ]
     },
     "execution_count": 43,
     "metadata": {},
     "output_type": "execute_result"
    }
   ],
   "source": [
    "r_post.json()['form']"
   ]
  },
  {
   "cell_type": "markdown",
   "metadata": {},
   "source": [
    "There is a lot more we can do. Check out <a href=\"https://requests.readthedocs.io/en/master/?utm_medium=Exinfluencer&utm_source=Exinfluencer&utm_content=000026UJ&utm_term=10006555&utm_id=NA-SkillsNetwork-Channel-SkillsNetworkCoursesIBMDeveloperSkillsNetworkPY0101ENSkillsNetwork19487395-2021-01-01\">Requests </a> for more.\n"
   ]
  },
  {
   "cell_type": "markdown",
   "metadata": {},
   "source": [
    "# Extract Data from an API"
   ]
  },
  {
   "cell_type": "code",
   "execution_count": 1,
   "metadata": {},
   "outputs": [],
   "source": [
    "#pip install requests"
   ]
  },
  {
   "cell_type": "code",
   "execution_count": 44,
   "metadata": {},
   "outputs": [],
   "source": [
    "import requests\n",
    "import pandas as pd\n",
    "import numpy as np\n",
    "import os"
   ]
  },
  {
   "cell_type": "code",
   "execution_count": 45,
   "metadata": {},
   "outputs": [],
   "source": [
    "url = \"http://api.exchangeratesapi.io/v1/latest?base=EUR&access_key=34275ac3b6c629f8067abe3af4292ff0\"\n",
    "response = requests.get(url)"
   ]
  },
  {
   "cell_type": "code",
   "execution_count": 46,
   "metadata": {},
   "outputs": [
    {
     "data": {
      "text/plain": [
       "200"
      ]
     },
     "execution_count": 46,
     "metadata": {},
     "output_type": "execute_result"
    }
   ],
   "source": [
    "response.status_code"
   ]
  },
  {
   "cell_type": "code",
   "execution_count": 16,
   "metadata": {},
   "outputs": [
    {
     "data": {
      "text/plain": [
       "b'{\"success\":true,\"timestamp\":1640849655,\"base\":\"EUR\",\"date\":\"2021-12-30\",\"rates\":{\"AED\":4.157264,\"AFN\":116.936257,\"ALL\":120.267926,\"AMD\":555.121056,\"ANG\":2.031934,\"AOA\":637.367309,\"ARS\":116.177245,\"AUD\":1.560527,\"AWG\":2.037331,\"AZN\":1.926443,\"BAM\":1.951202,\"BBD\":2.276441,\"BDT\":96.725751,\"BGN\":1.953975,\"BHD\":0.426711,\"BIF\":2248.745775,\"BMD\":1.13185,\"BND\":1.526826,\"BOB\":7.773291,\"BRL\":6.456063,\"BSD\":1.127446,\"BTC\":2.4044929e-5,\"BTN\":84.261979,\"BWP\":13.2174,\"BYN\":2.84171,\"BYR\":22184.267506,\"BZD\":2.27255,\"CAD\":1.448712,\"CDF\":2265.9642,\"CHF\":1.037952,\"CLF\":0.034841,\"CLP\":961.370975,\"CNY\":7.21,\"COP\":4570.264706,\"CRC\":723.77567,\"CUC\":1.13185,\"CUP\":29.994035,\"CVE\":110.001659,\"CZK\":24.928666,\"DJF\":200.707492,\"DKK\":7.436484,\"DOP\":64.128877,\"DZD\":157.42087,\"EGP\":17.808986,\"ERN\":16.977844,\"ETB\":55.798777,\"EUR\":1,\"FJD\":2.398052,\"FKP\":0.853844,\"GBP\":0.839963,\"GEL\":3.50827,\"GGP\":0.853844,\"GHS\":6.905269,\"GIP\":0.853844,\"GMD\":59.409739,\"GNF\":10640.79033,\"GTQ\":8.697778,\"GYD\":235.864306,\"HKD\":8.826928,\"HNL\":27.652267,\"HRK\":7.522506,\"HTG\":113.645955,\"HUF\":370.11485,\"IDR\":16147.260526,\"ILS\":3.523518,\"IMP\":0.853844,\"INR\":84.439663,\"IQD\":1645.493427,\"IRR\":47820.679179,\"ISK\":147.050253,\"JEP\":0.853844,\"JMD\":173.670677,\"JOD\":0.80247,\"JPY\":130.358041,\"KES\":128.06884,\"KGS\":95.970496,\"KHR\":4590.912295,\"KMF\":491.506244,\"KPW\":1018.665257,\"KRW\":1346.879542,\"KWD\":0.342521,\"KYD\":0.939592,\"KZT\":491.337628,\"LAK\":12595.813698,\"LBP\":1704.686804,\"LKR\":228.589581,\"LRD\":163.948086,\"LSL\":18.008075,\"LTL\":3.34206,\"LVL\":0.684645,\"LYD\":5.181302,\"MAD\":10.445494,\"MDL\":20.011888,\"MGA\":4482.706359,\"MKD\":61.470015,\"MMK\":2004.57211,\"MNT\":3235.263764,\"MOP\":9.053706,\"MRO\":404.070392,\"MUR\":49.632215,\"MVR\":17.487272,\"MWK\":920.443213,\"MXN\":23.298292,\"MYR\":4.726041,\"MZN\":72.246275,\"NAD\":18.008088,\"NGN\":466.481024,\"NIO\":39.917555,\"NOK\":9.983769,\"NPR\":134.826377,\"NZD\":1.657502,\"OMR\":0.435192,\"PAB\":1.127401,\"PEN\":4.465886,\"PGK\":3.958733,\"PHP\":57.780804,\"PKR\":201.332699,\"PLN\":4.596994,\"PYG\":7666.8506,\"QAR\":4.121097,\"RON\":4.950714,\"RSD\":117.593819,\"RUB\":84.104975,\"RWF\":1169.357415,\"SAR\":4.249082,\"SBD\":9.172262,\"SCR\":15.087402,\"SDG\":495.183107,\"SEK\":10.252635,\"SGD\":1.531699,\"SHP\":1.559015,\"SLL\":12829.523906,\"SOS\":663.264278,\"SRD\":22.420799,\"STD\":23427.01773,\"SVC\":9.86482,\"SYP\":2843.765919,\"SZL\":17.84784,\"THB\":37.753997,\"TJS\":12.728117,\"TMT\":3.972795,\"TND\":3.256896,\"TOP\":2.575073,\"TRY\":14.511267,\"TTD\":7.661365,\"TWD\":31.319998,\"TZS\":2608.914888,\"UAH\":30.70299,\"UGX\":3990.928203,\"USD\":1.13185,\"UYU\":50.151054,\"UZS\":12187.831088,\"VEF\":242023819042.10693,\"VND\":25806.188732,\"VUV\":128.185059,\"WST\":2.943005,\"XAF\":654.422133,\"XAG\":0.049967,\"XAU\":0.00063,\"XCD\":3.058882,\"XDR\":0.805511,\"XOF\":654.416364,\"XPF\":119.508467,\"YER\":283.302007,\"ZAR\":18.07625,\"ZMK\":10188.007699,\"ZMW\":18.754847,\"ZWL\":364.455362}}'"
      ]
     },
     "execution_count": 16,
     "metadata": {},
     "output_type": "execute_result"
    }
   ],
   "source": [
    "response.content"
   ]
  },
  {
   "cell_type": "code",
   "execution_count": 18,
   "metadata": {},
   "outputs": [
    {
     "data": {
      "text/plain": [
       "'{\"success\":true,\"timestamp\":1640849655,\"base\":\"EUR\",\"date\":\"2021-12-30\",\"rates\":{\"AED\":4.157264,\"AFN\":116.936257,\"ALL\":120.267926,\"AMD\":555.121056,\"ANG\":2.031934,\"AOA\":637.367309,\"ARS\":116.177245,\"AUD\":1.560527,\"AWG\":2.037331,\"AZN\":1.926443,\"BAM\":1.951202,\"BBD\":2.276441,\"BDT\":96.725751,\"BGN\":1.953975,\"BHD\":0.426711,\"BIF\":2248.745775,\"BMD\":1.13185,\"BND\":1.526826,\"BOB\":7.773291,\"BRL\":6.456063,\"BSD\":1.127446,\"BTC\":2.4044929e-5,\"BTN\":84.261979,\"BWP\":13.2174,\"BYN\":2.84171,\"BYR\":22184.267506,\"BZD\":2.27255,\"CAD\":1.448712,\"CDF\":2265.9642,\"CHF\":1.037952,\"CLF\":0.034841,\"CLP\":961.370975,\"CNY\":7.21,\"COP\":4570.264706,\"CRC\":723.77567,\"CUC\":1.13185,\"CUP\":29.994035,\"CVE\":110.001659,\"CZK\":24.928666,\"DJF\":200.707492,\"DKK\":7.436484,\"DOP\":64.128877,\"DZD\":157.42087,\"EGP\":17.808986,\"ERN\":16.977844,\"ETB\":55.798777,\"EUR\":1,\"FJD\":2.398052,\"FKP\":0.853844,\"GBP\":0.839963,\"GEL\":3.50827,\"GGP\":0.853844,\"GHS\":6.905269,\"GIP\":0.853844,\"GMD\":59.409739,\"GNF\":10640.79033,\"GTQ\":8.697778,\"GYD\":235.864306,\"HKD\":8.826928,\"HNL\":27.652267,\"HRK\":7.522506,\"HTG\":113.645955,\"HUF\":370.11485,\"IDR\":16147.260526,\"ILS\":3.523518,\"IMP\":0.853844,\"INR\":84.439663,\"IQD\":1645.493427,\"IRR\":47820.679179,\"ISK\":147.050253,\"JEP\":0.853844,\"JMD\":173.670677,\"JOD\":0.80247,\"JPY\":130.358041,\"KES\":128.06884,\"KGS\":95.970496,\"KHR\":4590.912295,\"KMF\":491.506244,\"KPW\":1018.665257,\"KRW\":1346.879542,\"KWD\":0.342521,\"KYD\":0.939592,\"KZT\":491.337628,\"LAK\":12595.813698,\"LBP\":1704.686804,\"LKR\":228.589581,\"LRD\":163.948086,\"LSL\":18.008075,\"LTL\":3.34206,\"LVL\":0.684645,\"LYD\":5.181302,\"MAD\":10.445494,\"MDL\":20.011888,\"MGA\":4482.706359,\"MKD\":61.470015,\"MMK\":2004.57211,\"MNT\":3235.263764,\"MOP\":9.053706,\"MRO\":404.070392,\"MUR\":49.632215,\"MVR\":17.487272,\"MWK\":920.443213,\"MXN\":23.298292,\"MYR\":4.726041,\"MZN\":72.246275,\"NAD\":18.008088,\"NGN\":466.481024,\"NIO\":39.917555,\"NOK\":9.983769,\"NPR\":134.826377,\"NZD\":1.657502,\"OMR\":0.435192,\"PAB\":1.127401,\"PEN\":4.465886,\"PGK\":3.958733,\"PHP\":57.780804,\"PKR\":201.332699,\"PLN\":4.596994,\"PYG\":7666.8506,\"QAR\":4.121097,\"RON\":4.950714,\"RSD\":117.593819,\"RUB\":84.104975,\"RWF\":1169.357415,\"SAR\":4.249082,\"SBD\":9.172262,\"SCR\":15.087402,\"SDG\":495.183107,\"SEK\":10.252635,\"SGD\":1.531699,\"SHP\":1.559015,\"SLL\":12829.523906,\"SOS\":663.264278,\"SRD\":22.420799,\"STD\":23427.01773,\"SVC\":9.86482,\"SYP\":2843.765919,\"SZL\":17.84784,\"THB\":37.753997,\"TJS\":12.728117,\"TMT\":3.972795,\"TND\":3.256896,\"TOP\":2.575073,\"TRY\":14.511267,\"TTD\":7.661365,\"TWD\":31.319998,\"TZS\":2608.914888,\"UAH\":30.70299,\"UGX\":3990.928203,\"USD\":1.13185,\"UYU\":50.151054,\"UZS\":12187.831088,\"VEF\":242023819042.10693,\"VND\":25806.188732,\"VUV\":128.185059,\"WST\":2.943005,\"XAF\":654.422133,\"XAG\":0.049967,\"XAU\":0.00063,\"XCD\":3.058882,\"XDR\":0.805511,\"XOF\":654.416364,\"XPF\":119.508467,\"YER\":283.302007,\"ZAR\":18.07625,\"ZMK\":10188.007699,\"ZMW\":18.754847,\"ZWL\":364.455362}}'"
      ]
     },
     "execution_count": 18,
     "metadata": {},
     "output_type": "execute_result"
    }
   ],
   "source": [
    "response.text"
   ]
  },
  {
   "cell_type": "code",
   "execution_count": 21,
   "metadata": {},
   "outputs": [
    {
     "name": "stdout",
     "output_type": "stream",
     "text": [
      "None\n"
     ]
    }
   ],
   "source": [
    "print(response.request.body)"
   ]
  },
  {
   "cell_type": "code",
   "execution_count": 22,
   "metadata": {},
   "outputs": [
    {
     "name": "stdout",
     "output_type": "stream",
     "text": [
      "{'Date': 'Thu, 30 Dec 2021 07:43:23 GMT', 'Content-Type': 'application/json; Charset=UTF-8', 'Transfer-Encoding': 'chunked', 'Connection': 'keep-alive', 'x-apilayer-transaction-id': 'c1264ac5-4214-4bea-8410-3123c7753a2b', 'access-control-allow-methods': 'GET, HEAD, POST, PUT, PATCH, DELETE, OPTIONS', 'access-control-allow-origin': '*', 'x-request-time': '0.009', 'CF-Cache-Status': 'DYNAMIC', 'Report-To': '{\"endpoints\":[{\"url\":\"https:\\\\/\\\\/a.nel.cloudflare.com\\\\/report\\\\/v3?s=rzrSsX3zsccYhX1IYlnZ35QgCEfeM7gZx093SjWbVjNB6nxFnn8DuUVjrFMBFibrBrex%2FrIcWrp9z4eX5APND5Xe9QSCeypPuIbIITZOoHreXsM13qG7JRw5fyaLRnyfmNSvsikfIfSN\"}],\"group\":\"cf-nel\",\"max_age\":604800}', 'NEL': '{\"success_fraction\":0,\"report_to\":\"cf-nel\",\"max_age\":604800}', 'Server': 'cloudflare', 'CF-RAY': '6c59a3092d768c1d-EWR', 'Content-Encoding': 'gzip'}\n"
     ]
    }
   ],
   "source": [
    "print(response.headers)"
   ]
  },
  {
   "cell_type": "code",
   "execution_count": 47,
   "metadata": {},
   "outputs": [
    {
     "data": {
      "text/plain": [
       "{'success': True,\n",
       " 'timestamp': 1640932143,\n",
       " 'base': 'EUR',\n",
       " 'date': '2021-12-31',\n",
       " 'rates': {'AED': 4.154665,\n",
       "  'AFN': 117.21177,\n",
       "  'ALL': 120.55925,\n",
       "  'AMD': 544.60931,\n",
       "  'ANG': 2.039665,\n",
       "  'AOA': 622.793549,\n",
       "  'ARS': 116.163856,\n",
       "  'AUD': 1.558257,\n",
       "  'AWG': 2.036615,\n",
       "  'AZN': 1.920129,\n",
       "  'BAM': 1.95435,\n",
       "  'BBD': 2.28508,\n",
       "  'BDT': 97.097482,\n",
       "  'BGN': 1.953441,\n",
       "  'BHD': 0.426488,\n",
       "  'BIF': 2257.201185,\n",
       "  'BMD': 1.131139,\n",
       "  'BND': 1.531048,\n",
       "  'BOB': 7.814683,\n",
       "  'BRL': 6.302029,\n",
       "  'BSD': 1.131748,\n",
       "  'BTC': 2.3818304e-05,\n",
       "  'BTN': 84.186007,\n",
       "  'BWP': 13.298989,\n",
       "  'BYN': 2.884529,\n",
       "  'BYR': 22170.315531,\n",
       "  'BZD': 2.281283,\n",
       "  'CAD': 1.440109,\n",
       "  'CDF': 2264.539721,\n",
       "  'CHF': 1.034545,\n",
       "  'CLF': 0.034927,\n",
       "  'CLP': 963.730205,\n",
       "  'CNY': 7.209431,\n",
       "  'COP': 4603.733888,\n",
       "  'CRC': 726.53311,\n",
       "  'CUC': 1.131139,\n",
       "  'CUP': 29.975172,\n",
       "  'CVE': 110.185955,\n",
       "  'CZK': 24.860502,\n",
       "  'DJF': 201.478339,\n",
       "  'DKK': 7.437007,\n",
       "  'DOP': 64.735271,\n",
       "  'DZD': 157.348756,\n",
       "  'EGP': 17.772672,\n",
       "  'ERN': 16.967166,\n",
       "  'ETB': 56.040616,\n",
       "  'EUR': 1,\n",
       "  'FJD': 2.395525,\n",
       "  'FKP': 0.853307,\n",
       "  'GBP': 0.838089,\n",
       "  'GEL': 3.500839,\n",
       "  'GGP': 0.853307,\n",
       "  'GHS': 6.999769,\n",
       "  'GIP': 0.853307,\n",
       "  'GMD': 59.667391,\n",
       "  'GNF': 10681.35972,\n",
       "  'GTQ': 8.731736,\n",
       "  'GYD': 236.669757,\n",
       "  'HKD': 8.819176,\n",
       "  'HNL': 27.758105,\n",
       "  'HRK': 7.521783,\n",
       "  'HTG': 114.274919,\n",
       "  'HUF': 368.784971,\n",
       "  'IDR': 16130.940598,\n",
       "  'ILS': 3.514515,\n",
       "  'IMP': 0.853307,\n",
       "  'INR': 83.998482,\n",
       "  'IQD': 1651.799324,\n",
       "  'IRR': 47818.882513,\n",
       "  'ISK': 147.602008,\n",
       "  'JEP': 0.853307,\n",
       "  'JMD': 174.242841,\n",
       "  'JOD': 0.80119,\n",
       "  'JPY': 130.217767,\n",
       "  'KES': 128.055887,\n",
       "  'KGS': 95.873723,\n",
       "  'KHR': 4608.1868,\n",
       "  'KMF': 491.903875,\n",
       "  'KPW': 1018.024605,\n",
       "  'KRW': 1346.196248,\n",
       "  'KWD': 0.342204,\n",
       "  'KYD': 0.943086,\n",
       "  'KZT': 494.855316,\n",
       "  'LAK': 12643.826604,\n",
       "  'LBP': 1711.411753,\n",
       "  'LKR': 229.601355,\n",
       "  'LRD': 164.156526,\n",
       "  'LSL': 18.041402,\n",
       "  'LTL': 3.339958,\n",
       "  'LVL': 0.684214,\n",
       "  'LYD': 5.204782,\n",
       "  'MAD': 10.468474,\n",
       "  'MDL': 20.088479,\n",
       "  'MGA': 4494.157071,\n",
       "  'MKD': 61.568383,\n",
       "  'MMK': 2012.239408,\n",
       "  'MNT': 3233.229065,\n",
       "  'MOP': 9.091516,\n",
       "  'MRO': 403.816267,\n",
       "  'MUR': 49.373782,\n",
       "  'MVR': 17.421745,\n",
       "  'MWK': 923.955502,\n",
       "  'MXN': 23.151128,\n",
       "  'MYR': 4.721709,\n",
       "  'MZN': 72.20016,\n",
       "  'NAD': 18.041326,\n",
       "  'NGN': 465.146727,\n",
       "  'NIO': 40.069838,\n",
       "  'NOK': 9.971801,\n",
       "  'NPR': 134.692612,\n",
       "  'NZD': 1.656038,\n",
       "  'OMR': 0.435484,\n",
       "  'PAB': 1.131743,\n",
       "  'PEN': 4.50309,\n",
       "  'PGK': 4.02467,\n",
       "  'PHP': 57.637732,\n",
       "  'PKR': 202.101071,\n",
       "  'PLN': 4.590443,\n",
       "  'PYG': 7729.881414,\n",
       "  'QAR': 4.1185,\n",
       "  'RON': 4.950316,\n",
       "  'RSD': 117.576144,\n",
       "  'RUB': 84.385085,\n",
       "  'RWF': 1173.916347,\n",
       "  'SAR': 4.247611,\n",
       "  'SBD': 9.155347,\n",
       "  'SCR': 15.103113,\n",
       "  'SDG': 494.87675,\n",
       "  'SEK': 10.238772,\n",
       "  'SGD': 1.527738,\n",
       "  'SHP': 1.558027,\n",
       "  'SLL': 12793.1775,\n",
       "  'SOS': 660.584773,\n",
       "  'SRD': 23.536719,\n",
       "  'STD': 23412.284174,\n",
       "  'SVC': 9.902502,\n",
       "  'SYP': 2841.977437,\n",
       "  'SZL': 18.047315,\n",
       "  'THB': 37.663515,\n",
       "  'TJS': 12.777833,\n",
       "  'TMT': 3.970296,\n",
       "  'TND': 3.252926,\n",
       "  'TOP': 2.572894,\n",
       "  'TRY': 14.991429,\n",
       "  'TTD': 7.68718,\n",
       "  'TWD': 31.408301,\n",
       "  'TZS': 2608.405437,\n",
       "  'UAH': 30.875059,\n",
       "  'UGX': 4009.746257,\n",
       "  'USD': 1.131139,\n",
       "  'UYU': 50.324898,\n",
       "  'UZS': 12245.028558,\n",
       "  'VEF': 241871607108.157,\n",
       "  'VND': 25778.647498,\n",
       "  'VUV': 128.104441,\n",
       "  'WST': 2.941154,\n",
       "  'XAF': 655.463607,\n",
       "  'XAG': 0.048933,\n",
       "  'XAU': 0.000622,\n",
       "  'XCD': 3.056959,\n",
       "  'XDR': 0.808591,\n",
       "  'XOF': 655.463607,\n",
       "  'XPF': 119.730687,\n",
       "  'YER': 283.067159,\n",
       "  'ZAR': 17.997207,\n",
       "  'ZMK': 10181.60772,\n",
       "  'ZMW': 18.85141,\n",
       "  'ZWL': 364.226151}}"
      ]
     },
     "execution_count": 47,
     "metadata": {},
     "output_type": "execute_result"
    }
   ],
   "source": [
    "r = response.json()\n",
    "r"
   ]
  },
  {
   "cell_type": "code",
   "execution_count": 49,
   "metadata": {},
   "outputs": [
    {
     "data": {
      "text/html": [
       "<div>\n",
       "<style scoped>\n",
       "    .dataframe tbody tr th:only-of-type {\n",
       "        vertical-align: middle;\n",
       "    }\n",
       "\n",
       "    .dataframe tbody tr th {\n",
       "        vertical-align: top;\n",
       "    }\n",
       "\n",
       "    .dataframe thead th {\n",
       "        text-align: right;\n",
       "    }\n",
       "</style>\n",
       "<table border=\"1\" class=\"dataframe\">\n",
       "  <thead>\n",
       "    <tr style=\"text-align: right;\">\n",
       "      <th></th>\n",
       "      <th>currency</th>\n",
       "      <th>rates</th>\n",
       "    </tr>\n",
       "  </thead>\n",
       "  <tbody>\n",
       "    <tr>\n",
       "      <td>0</td>\n",
       "      <td>AED</td>\n",
       "      <td>4.154665</td>\n",
       "    </tr>\n",
       "    <tr>\n",
       "      <td>1</td>\n",
       "      <td>AFN</td>\n",
       "      <td>117.211770</td>\n",
       "    </tr>\n",
       "    <tr>\n",
       "      <td>2</td>\n",
       "      <td>ALL</td>\n",
       "      <td>120.559250</td>\n",
       "    </tr>\n",
       "    <tr>\n",
       "      <td>3</td>\n",
       "      <td>AMD</td>\n",
       "      <td>544.609310</td>\n",
       "    </tr>\n",
       "    <tr>\n",
       "      <td>4</td>\n",
       "      <td>ANG</td>\n",
       "      <td>2.039665</td>\n",
       "    </tr>\n",
       "    <tr>\n",
       "      <td>...</td>\n",
       "      <td>...</td>\n",
       "      <td>...</td>\n",
       "    </tr>\n",
       "    <tr>\n",
       "      <td>163</td>\n",
       "      <td>YER</td>\n",
       "      <td>283.067159</td>\n",
       "    </tr>\n",
       "    <tr>\n",
       "      <td>164</td>\n",
       "      <td>ZAR</td>\n",
       "      <td>17.997207</td>\n",
       "    </tr>\n",
       "    <tr>\n",
       "      <td>165</td>\n",
       "      <td>ZMK</td>\n",
       "      <td>10181.607720</td>\n",
       "    </tr>\n",
       "    <tr>\n",
       "      <td>166</td>\n",
       "      <td>ZMW</td>\n",
       "      <td>18.851410</td>\n",
       "    </tr>\n",
       "    <tr>\n",
       "      <td>167</td>\n",
       "      <td>ZWL</td>\n",
       "      <td>364.226151</td>\n",
       "    </tr>\n",
       "  </tbody>\n",
       "</table>\n",
       "<p>168 rows × 2 columns</p>\n",
       "</div>"
      ],
      "text/plain": [
       "    currency         rates\n",
       "0        AED      4.154665\n",
       "1        AFN    117.211770\n",
       "2        ALL    120.559250\n",
       "3        AMD    544.609310\n",
       "4        ANG      2.039665\n",
       "..       ...           ...\n",
       "163      YER    283.067159\n",
       "164      ZAR     17.997207\n",
       "165      ZMK  10181.607720\n",
       "166      ZMW     18.851410\n",
       "167      ZWL    364.226151\n",
       "\n",
       "[168 rows x 2 columns]"
      ]
     },
     "execution_count": 49,
     "metadata": {},
     "output_type": "execute_result"
    }
   ],
   "source": [
    "import json\n",
    "df = pd.read_json(json.dumps(r))\n",
    "df['currency'] = df.index\n",
    "df.reset_index(drop=True, inplace=True)\n",
    "df.drop(['success', 'timestamp', 'date', 'base'], axis=1, inplace=True)\n",
    "df = df[['currency', 'rates']]\n",
    "df"
   ]
  },
  {
   "cell_type": "code",
   "execution_count": 50,
   "metadata": {},
   "outputs": [
    {
     "data": {
      "text/plain": [
       "'C:\\\\Users\\\\dell\\\\Desktop\\\\data science\\\\kaggle\\\\Python\\\\api-formatted.csv'"
      ]
     },
     "execution_count": 50,
     "metadata": {},
     "output_type": "execute_result"
    }
   ],
   "source": [
    "path=os.path.join(os.getcwd(),'api-formatted.csv')\n",
    "path"
   ]
  }
 ],
 "metadata": {
  "kernelspec": {
   "display_name": "Python 3",
   "language": "python",
   "name": "python3"
  },
  "language_info": {
   "codemirror_mode": {
    "name": "ipython",
    "version": 3
   },
   "file_extension": ".py",
   "mimetype": "text/x-python",
   "name": "python",
   "nbconvert_exporter": "python",
   "pygments_lexer": "ipython3",
   "version": "3.7.4"
  }
 },
 "nbformat": 4,
 "nbformat_minor": 2
}
